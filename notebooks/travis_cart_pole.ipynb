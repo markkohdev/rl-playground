{
 "cells": [
  {
   "cell_type": "code",
   "execution_count": 48,
   "metadata": {},
   "outputs": [],
   "source": [
    "import gymnasium as gym\n",
    "import random\n",
    "from collections import defaultdict\n",
    "from tqdm.notebook import tqdm\n",
    "\n",
    "# Set learning parameters\n",
    "LEARNING_RATE = 0.75\n",
    "DISCOUNT = 0.95\n",
    "EPSILON = 0.1\n",
    "EPISODES = 40000\n"
   ]
  },
  {
   "cell_type": "code",
   "execution_count": null,
   "metadata": {},
   "outputs": [],
   "source": [
    "NUM_BINS = 100\n",
    "NUM_OBVS = 4\n",
    "NUM_ACTS = 2\n",
    "peak_cart_velocity = 7\n",
    "peak_pole_velocity = 3\n",
    "MAX_VALS = (3, peak_cart_velocity, 0.3, peak_pole_velocity)\n",
    "MIN_VALS = tuple(-1 * v for v in MAX_VALS)\n",
    "INTERVAL = tuple(  (MAX_VALS[i]-MIN_VALS[i])/NUM_BINS   for i in range(NUM_OBVS))\n",
    "\n",
    "\n",
    "def discretize_state(state):\n",
    "    state_zeroed = [state[i]-MIN_VALS[i] for i in range(NUM_OBVS)]\n",
    "    state_bin = [  round(  state_zeroed[i]/INTERVAL[i]  )     for i in range(NUM_OBVS)]\n",
    "    return tuple(state_bin)\n",
    "\n",
    "\n",
    "def get_q_actions(q, state_inds):\n",
    "    return [  q[(act, state_inds)][0]   for act in range(NUM_ACTS)]\n",
    "\n",
    "\n",
    "def get_best_action(q, state_inds):\n",
    "    q_actions = get_q_actions(q, state_inds)\n",
    "    max_q = max(q_actions)\n",
    "\n",
    "    return q_actions.index(max_q)\n",
    "\n",
    "\n",
    "def default_val():\n",
    "    return [random.uniform(-2, 0), random.uniform(-2, 0)]"
   ]
  },
  {
   "cell_type": "code",
   "execution_count": null,
   "metadata": {},
   "outputs": [],
   "source": [
    "\n",
    "def deploy_agent(environement, q_table):\n",
    "\n",
    "    state = environement.reset()[0]\n",
    "    state_inds = discretize_state(state)\n",
    "\n",
    "    terminated = False\n",
    "    num_steps = 0\n",
    "    while not terminated:\n",
    "\n",
    "        # Choose action\n",
    "        if random.random() < EPSILON:\n",
    "            action = random.randint(0,1)\n",
    "        else:\n",
    "            action = get_best_action(q_table, state_inds)\n",
    "\n",
    "        # Make a note of this q's value\n",
    "        q_val = q_table[(action, state_inds)][0]\n",
    "\n",
    "        # Observe results that could happen if you take this step\n",
    "        new_state, reward, terminated, _, _ = environement.step(action)\n",
    "\n",
    "        new_state_inds = discretize_state(new_state)\n",
    "\n",
    "        best_new_q_value = max(  get_q_actions(q_table, new_state_inds)  )\n",
    "\n",
    "        # Update q based on this possibility        \n",
    "        updated_q_val = (1-LEARNING_RATE)*q_val + LEARNING_RATE*(reward+DISCOUNT*best_new_q_value)\n",
    "\n",
    "        q_table[(action, state_inds)][1] = updated_q_val\n",
    "\n",
    "        # Take the step\n",
    "        state_inds = new_state_inds\n",
    "        num_steps += 1\n",
    "\n",
    "    return q_table, num_steps"
   ]
  },
  {
   "cell_type": "code",
   "execution_count": null,
   "metadata": {},
   "outputs": [],
   "source": [
    "print(INTERVAL)"
   ]
  },
  {
   "cell_type": "code",
   "execution_count": null,
   "metadata": {},
   "outputs": [],
   "source": [
    "# Initialize the environment\n",
    "env = gym.make('CartPole-v1', render_mode = \"human\")\n",
    "\n",
    "q_table = defaultdict( default_val )\n",
    "\n",
    "tot_steps = 0\n",
    "\n",
    "for episode in range(20000):\n",
    "    \n",
    "    q_table, num_steps = deploy_agent(env, q_table)\n",
    "\n",
    "    tot_steps += num_steps\n",
    "    if episode % 2000 == 0:\n",
    "        print(tot_steps/2000)\n",
    "        tot_steps = 0\n",
    "\n",
    "    for key, val in q_table.items():\n",
    "        if val[0] != val[1]:\n",
    "            val[0] = val[1]\n",
    "\n",
    "env.close()"
   ]
  },
  {
   "cell_type": "code",
   "execution_count": null,
   "metadata": {},
   "outputs": [],
   "source": [
    "for key in q_table.keys():\n",
    "    if key[1][0] == 1 or key[1][0] == 10:   #any(state == 1 or state == 10 for state in key[1]):\n",
    "        print(key[1])\n"
   ]
  }
 ],
 "metadata": {
  "kernelspec": {
   "display_name": "base",
   "language": "python",
   "name": "python3"
  },
  "language_info": {
   "codemirror_mode": {
    "name": "ipython",
    "version": 3
   },
   "file_extension": ".py",
   "mimetype": "text/x-python",
   "name": "python",
   "nbconvert_exporter": "python",
   "pygments_lexer": "ipython3",
   "version": "3.10.9"
  },
  "orig_nbformat": 4,
  "vscode": {
   "interpreter": {
    "hash": "67bfac4f4aefe1c16f1836a62d55b6e6baa7aba1ac5ce70e93ee8e90eb4f073a"
   }
  }
 },
 "nbformat": 4,
 "nbformat_minor": 2
}
